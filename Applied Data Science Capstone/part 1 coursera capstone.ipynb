{
 "cells": [
  {
   "cell_type": "markdown",
   "metadata": {},
   "source": [
    "# Coursera Capstone Project - Opening an Inn in The Phillipines"
   ]
  },
  {
   "cell_type": "markdown",
   "metadata": {},
   "source": [
    "## 1 Introduction"
   ]
  },
  {
   "cell_type": "markdown",
   "metadata": {},
   "source": [
    "### 1.1 Background"
   ]
  },
  {
   "cell_type": "markdown",
   "metadata": {},
   "source": [
    "The Phillipines is made up of 7,641 islands inhabited by a population of 106.7 million, last reported as of 2018. Jane, a Torontonian who is about to complete her degree in hospitality & hotel management, would like to travel back to her home country and open up an. Apart from planning her expenses and sorting out the logistics to operate a inn, Jane must figure out the optimal location to start her business, preferably in the province of Cebu. \n",
    "\n",
    "For this project, we will use several tools in Data Science & Machine Learning to find the best location that will suit Jane's business needs. Such tools & methods include implementing Exploratory Data Analysis, Folium (an interactive data visualization map tool), and the use of the K-Means Clustering algorithm to create a conclusion from location data. "
   ]
  },
  {
   "cell_type": "markdown",
   "metadata": {},
   "source": [
    "### 1.2 The Data "
   ]
  },
  {
   "cell_type": "markdown",
   "metadata": {},
   "source": [
    "The spreadsheet obtained from https://simplemaps.com/data/ph-cities consists of several cities in the Phillipines. This dataset will provide me with the necessary information on their coordinate systems. These coordinates will then be used on the Foursquare Places API to gather information on venues, tourist attractions, restaurants, and dense population areas that will compliment an inn. "
   ]
  }
 ],
 "metadata": {
  "kernelspec": {
   "display_name": "Python 3",
   "language": "python",
   "name": "python3"
  },
  "language_info": {
   "codemirror_mode": {
    "name": "ipython",
    "version": 3
   },
   "file_extension": ".py",
   "mimetype": "text/x-python",
   "name": "python",
   "nbconvert_exporter": "python",
   "pygments_lexer": "ipython3",
   "version": "3.7.4"
  }
 },
 "nbformat": 4,
 "nbformat_minor": 2
}
